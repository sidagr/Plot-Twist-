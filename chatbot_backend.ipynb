{
 "cells": [
  {
   "cell_type": "code",
   "execution_count": 1,
   "id": "7f572e58",
   "metadata": {},
   "outputs": [],
   "source": [
    "import getpass\n",
    "import os\n",
    "\n",
    "if \"GOOGLE_API_KEY\" not in os.environ:\n",
    "    os.environ[\"GOOGLE_API_KEY\"] = getpass.getpass(\"Enter your Google AI API key: \")"
   ]
  },
  {
   "cell_type": "code",
   "execution_count": 3,
   "id": "328cc36c",
   "metadata": {},
   "outputs": [],
   "source": [
    "from langchain_google_genai import ChatGoogleGenerativeAI\n",
    "\n",
    "llm = ChatGoogleGenerativeAI(\n",
    "    model=\"gemini-2.0-flash-001\",\n",
    "    temperature=0,\n",
    "    max_tokens=None,\n",
    "    timeout=None,\n",
    "    max_retries=2,\n",
    "    # other params...\n",
    ")\n"
   ]
  },
  {
   "cell_type": "code",
   "execution_count": 7,
   "id": "2734aeed",
   "metadata": {},
   "outputs": [],
   "source": [
    "from langchain_core.messages import HumanMessage\n",
    "from langgraph.checkpoint.memory import MemorySaver\n",
    "from langgraph.graph import START, MessagesState, StateGraph\n",
    "\n",
    "#Define a new graph\n",
    "workflow = StateGraph(state_schema=MessagesState)\n",
    "\n",
    "\n",
    "#Define the function that calls the model\n",
    "def call_model(state: MessagesState):\n",
    "    response = llm.invoke(state[\"messages\"])\n",
    "    # Update message history with response:\n",
    "    return {\"messages\": response}\n",
    "\n",
    "\n",
    "#Define the (single) node in the graph\n",
    "workflow.add_edge(START, \"model\")\n",
    "workflow.add_node(\"model\", call_model)\n",
    "\n",
    "#Add memory\n",
    "memory = MemorySaver()\n",
    "app = workflow.compile(checkpointer=memory)"
   ]
  },
  {
   "cell_type": "code",
   "execution_count": 8,
   "id": "97ea4f50",
   "metadata": {},
   "outputs": [],
   "source": [
    "config = {\"configurable\": {\"thread_id\": \"test_22\"}}"
   ]
  },
  {
   "cell_type": "code",
   "execution_count": 9,
   "id": "412096db",
   "metadata": {},
   "outputs": [],
   "source": [
    "class HumanAttributes:\n",
    "    def __init__(self):\n",
    "        # Initialize the 'map' attribute as a dictionary where all attributes are keys with empty strings as default values\n",
    "        self.map = {\n",
    "            \"Name\": \"\",\n",
    "            \"Age\": \"\",\n",
    "            \"Gender\": \"\",\n",
    "            \"Nationality\": \"\",\n",
    "            \"Profession\": \"\",\n",
    "            \"Education\": \"\",\n",
    "            \"Languages Spoken\": \"\",\n",
    "            \"Hobbies\": \"\",\n",
    "            \"Personality Traits\": \"\",\n",
    "            \"Values\": \"\",\n",
    "            \"Beliefs\": \"\",\n",
    "            \"Favorite Books\": \"\",\n",
    "            \"Favorite Movies\": \"\",\n",
    "            \"Life Goals\": \"\",\n",
    "            \"Dreams\": \"\",\n",
    "            \"Bucket List\": \"\",\n",
    "            \"Relationships\": \"\",\n",
    "            \"Current Emotional State\": \"\",\n",
    "        }\n",
    "\n",
    "    def set_attribute(self, key, value):\n",
    "        \"\"\"Set an attribute dynamically in the map.\"\"\"\n",
    "        if key in self.map:\n",
    "            self.map[key] = str(value)  # Convert value to string before storing\n",
    "        else:\n",
    "            print(f\"❗ Attribute '{key}' not found.\")\n",
    "\n",
    "    def get_attribute(self, key):\n",
    "        \"\"\"Get the value of a specific attribute from the map.\"\"\"\n",
    "        return self.map.get(key, \"Unknown\")\n",
    "\n",
    "    def summary(self):\n",
    "        \"\"\"Return a full summary of the attributes from the map.\"\"\"\n",
    "        for key, value in self.map.items():\n",
    "            if value:  # If the value is an empty string\n",
    "                print(\"the attribute is: \", key, \"and the value is: \", value)\n",
    "\n",
    "    def __str__(self):\n",
    "        \"\"\"Return a pretty-printed string summary of the attributes in the map.\"\"\"\n",
    "        return \"\\n\".join([f\"{key}: {value or 'Unknown'}\" for key, value in self.map.items()])\n",
    "\n",
    "    def missing_attributes(self):\n",
    "        missing = []\n",
    "        for key, value in self.map.items():\n",
    "            if not value:  # If the value is an empty string\n",
    "                missing.append(key)\n",
    "\n",
    "        if not missing:\n",
    "            return \"All attributes have been filled out.\"\n",
    "        else:\n",
    "            return f\"❗ The following attributes are still missing: {', '.join(missing)}\"\n",
    "\n"
   ]
  },
  {
   "cell_type": "code",
   "execution_count": 7,
   "id": "60b0c97b",
   "metadata": {},
   "outputs": [
    {
     "data": {
      "text/plain": [
       "{'messages': [HumanMessage(content=' \\n\\n    My HumanAttributes class has the following attributes \"Name\", \"Age\", Gender\", \"Nationality\", \"Profession\", \"Education\", \"Languages Spoken\", \"Hobbies\"\\n            ,\"Personality Traits\", \"Values\", \"Beliefs\", \"Favorite Books\", \"Favorite Movies\", \"Life Goals\", \"Dreams\", \"Bucket List\", \"Relationships\", \"Current Emotional State\"\\n\\n   You are a friendly and inquisitive AI chat bot. I want you to remember all the attributes for this class and fill it up as you find it. Ask questions to get answers about the human and\\n   when you do, find out other attributes in the next question. Remember to keep your reply to a maximum of six lines whilst having only one question at a time. Also, don\\'t be robotic.\\n\\n   **Rules**:\\n    1. Be conversational and friendly.\\n    2. Ask only one question at a time if asking a question.\\n    3. Only ask for missing information.\\n    4. Never repeat questions.\\n    5. Adapt based on their responses.\\n    6. Limit questions and conversation to a maximum of three lines.\\n    7. Don\\'t deviate to much from your question and answers.\\n\\n    Make sure to address the human properly.\\n', additional_kwargs={}, response_metadata={}, id='eea0ce4a-866f-4831-b302-f6a916f03b2e'),\n",
       "  AIMessage(content=\"Alright, sounds fun! Let's get to know you better.\\n\\nFirst off, what's your name? I'm eager to put a name to the face, so to speak!\", additional_kwargs={}, response_metadata={'prompt_feedback': {'block_reason': 0, 'safety_ratings': []}, 'finish_reason': 'STOP', 'model_name': 'gemini-2.0-flash-001', 'safety_ratings': []}, id='run-03031ff9-1e07-4b42-a8a9-1f7975321080-0', usage_metadata={'input_tokens': 259, 'output_tokens': 41, 'total_tokens': 300, 'input_token_details': {'cache_read': 0}})]}"
      ]
     },
     "execution_count": 7,
     "metadata": {},
     "output_type": "execute_result"
    }
   ],
   "source": [
    "from langchain.prompts import ChatPromptTemplate\n",
    "\n",
    "system_prompt = \"\"\" \n",
    "\n",
    "    My HumanAttributes class has the following attributes \"Name\", \"Age\", Gender\", \"Nationality\", \"Profession\", \"Education\", \"Languages Spoken\", \"Hobbies\"\n",
    "            ,\"Personality Traits\", \"Values\", \"Beliefs\", \"Favorite Books\", \"Favorite Movies\", \"Life Goals\", \"Dreams\", \"Bucket List\", \"Relationships\", \"Current Emotional State\"\n",
    "\n",
    "   You are a friendly and inquisitive AI chat bot. I want you to remember all the attributes for this class and fill it up as you find it. Ask questions to get answers about the human and\n",
    "   when you do, find out other attributes in the next question. Remember to keep your reply to a maximum of six lines whilst having only one question at a time. Also, don't be robotic.\n",
    "\n",
    "   **Rules**:\n",
    "    1. Be conversational and friendly.\n",
    "    2. Ask only one question at a time if asking a question.\n",
    "    3. Only ask for missing information.\n",
    "    4. Never repeat questions.\n",
    "    5. Adapt based on their responses.\n",
    "    6. Limit questions and conversation to a maximum of three lines.\n",
    "    7. Don't deviate to much from your question and answers.\n",
    "\n",
    "    Make sure to address the human properly.\n",
    "\"\"\"\n",
    "\n",
    "app.invoke({\"messages\": [HumanMessage(content=system_prompt)]}, config=config)"
   ]
  },
  {
   "cell_type": "code",
   "execution_count": null,
   "id": "d73512cd",
   "metadata": {},
   "outputs": [
    {
     "name": "stdout",
     "output_type": "stream",
     "text": [
      "Jupyter question generator server running on port 5001...\n",
      " * Serving Flask app '__main__'\n",
      " * Debug mode: off\n"
     ]
    },
    {
     "name": "stderr",
     "output_type": "stream",
     "text": [
      "WARNING: This is a development server. Do not use it in a production deployment. Use a production WSGI server instead.\n",
      " * Running on http://127.0.0.1:5001\n",
      "Press CTRL+C to quit\n"
     ]
    },
    {
     "name": "stdout",
     "output_type": "stream",
     "text": [
      "The user is about to send a message. Converse  and be friendly with them, keeping in mind the missing attributes. Find out only one attribute from a statement, without making it so blatant. Be conversational and do not sound robotic.❗ The following attributes are still missing: Name, Age, Gender, Nationality, Profession, Education, Languages Spoken, Hobbies, Personality Traits, Values, Beliefs, Favorite Books, Favorite Movies, Life Goals, Dreams, Bucket List, Relationships, Current Emotional StateThe sentence after this is the user message enter an appropriate message to the user based on my prompting.hello\n"
     ]
    },
    {
     "name": "stderr",
     "output_type": "stream",
     "text": [
      "127.0.0.1 - - [06/Apr/2025 01:53:32] \"POST /trigger-feedback HTTP/1.1\" 200 -\n"
     ]
    },
    {
     "name": "stdout",
     "output_type": "stream",
     "text": [
      "Profession   I don't know the user's profession. I'm waiting for them to tell me! I'm just trying to get to know them better through conversation.\n",
      "The user is about to send a message. Converse  and be friendly with them, keeping in mind the missing attributes. Find out only one attribute from a statement, without making it so blatant. Be conversational and do not sound robotic.❗ The following attributes are still missing: Name, Age, Gender, Nationality, Education, Languages Spoken, Hobbies, Personality Traits, Values, Beliefs, Favorite Books, Favorite Movies, Life Goals, Dreams, Bucket List, Relationships, Current Emotional StateThe sentence after this is the user message enter an appropriate message to the user based on my prompting.I'm currently a part of a hackathon\n"
     ]
    },
    {
     "name": "stderr",
     "output_type": "stream",
     "text": [
      "127.0.0.1 - - [06/Apr/2025 01:55:01] \"POST /trigger-feedback HTTP/1.1\" 200 -\n"
     ]
    },
    {
     "name": "stdout",
     "output_type": "stream",
     "text": [
      "Hobbies   Based on the user's message about participating in a hackathon, a possible hobby could be programming or software development. However, I don't know for sure if it's a hobby or something else.\n",
      "The user is about to send a message. Converse  and be friendly with them, keeping in mind the missing attributes. Find out only one attribute from a statement, without making it so blatant. Be conversational and do not sound robotic.❗ The following attributes are still missing: Name, Age, Gender, Nationality, Education, Languages Spoken, Personality Traits, Values, Beliefs, Favorite Books, Favorite Movies, Life Goals, Dreams, Bucket List, Relationships, Current Emotional StateThe sentence after this is the user message enter an appropriate message to the user based on my prompting.I am working with a team\n"
     ]
    },
    {
     "name": "stderr",
     "output_type": "stream",
     "text": [
      "127.0.0.1 - - [06/Apr/2025 01:55:11] \"POST /trigger-feedback HTTP/1.1\" 200 -\n"
     ]
    },
    {
     "name": "stdout",
     "output_type": "stream",
     "text": [
      "Values   I don't know the user's values. I asked a question that *might* lead them to reveal something about their values, but I'm still waiting for their response.\n",
      "The user is about to send a message. Converse  and be friendly with them, keeping in mind the missing attributes. Find out only one attribute from a statement, without making it so blatant. Be conversational and do not sound robotic.❗ The following attributes are still missing: Name, Age, Gender, Nationality, Education, Languages Spoken, Personality Traits, Beliefs, Favorite Books, Favorite Movies, Life Goals, Dreams, Bucket List, Relationships, Current Emotional StateThe sentence after this is the user message enter an appropriate message to the user based on my prompting.I am the front-end developer for the team, I value communication the most\n"
     ]
    },
    {
     "name": "stderr",
     "output_type": "stream",
     "text": [
      "127.0.0.1 - - [06/Apr/2025 01:55:30] \"POST /trigger-feedback HTTP/1.1\" 200 -\n"
     ]
    },
    {
     "name": "stdout",
     "output_type": "stream",
     "text": [
      "Personality Traits   Based on the user's statement that they value communication the most, I can infer that they likely possess personality traits such as being collaborative, open-minded, and possibly a good listener. However, this is just an inference, and I don't know their personality traits for certain.\n",
      "The user is about to send a message. Converse  and be friendly with them, keeping in mind the missing attributes. Find out only one attribute from a statement, without making it so blatant. Be conversational and do not sound robotic.❗ The following attributes are still missing: Name, Age, Gender, Nationality, Education, Languages Spoken, Beliefs, Favorite Books, Favorite Movies, Life Goals, Dreams, Bucket List, Relationships, Current Emotional StateThe sentence after this is the user message enter an appropriate message to the user based on my prompting.There are different perspectives but we work through it\n"
     ]
    },
    {
     "name": "stderr",
     "output_type": "stream",
     "text": [
      "127.0.0.1 - - [06/Apr/2025 01:55:47] \"POST /trigger-feedback HTTP/1.1\" 200 -\n"
     ]
    },
    {
     "name": "stdout",
     "output_type": "stream",
     "text": [
      "Life Goals   I don't know the user's life goals. I asked a question that *might* lead them to reveal something about their life goals, but I'm still waiting for their response.\n",
      "The user is about to send a message. Converse  and be friendly with them, keeping in mind the missing attributes. Find out only one attribute from a statement, without making it so blatant. Be conversational and do not sound robotic.❗ The following attributes are still missing: Name, Age, Gender, Nationality, Education, Languages Spoken, Beliefs, Favorite Books, Favorite Movies, Dreams, Bucket List, Relationships, Current Emotional StateThe sentence after this is the user message enter an appropriate message to the user based on my prompting.To achieve whatever I might desire at any given moment, to be well-off enough that I don't need to care about insensitive things and can just enjoy life for what it is\n"
     ]
    },
    {
     "name": "stderr",
     "output_type": "stream",
     "text": [
      "127.0.0.1 - - [06/Apr/2025 01:56:25] \"POST /trigger-feedback HTTP/1.1\" 200 -\n"
     ]
    },
    {
     "name": "stdout",
     "output_type": "stream",
     "text": [
      "Favorite Books   I don't know the user's favorite books. I asked a question that *might* lead them to reveal something about their favorite books, but I'm still waiting for their response.\n",
      "The user is about to send a message. Converse  and be friendly with them, keeping in mind the missing attributes. Find out only one attribute from a statement, without making it so blatant. Be conversational and do not sound robotic.❗ The following attributes are still missing: Name, Age, Gender, Nationality, Education, Languages Spoken, Beliefs, Favorite Movies, Dreams, Bucket List, Relationships, Current Emotional StateThe sentence after this is the user message enter an appropriate message to the user based on my prompting.I don't have any favorite books, I would love to learn things for fun if I had time\n"
     ]
    },
    {
     "name": "stderr",
     "output_type": "stream",
     "text": [
      "127.0.0.1 - - [06/Apr/2025 01:56:56] \"POST /trigger-feedback HTTP/1.1\" 200 -\n"
     ]
    },
    {
     "name": "stdout",
     "output_type": "stream",
     "text": [
      "Education   I don't know the user's specific educational background, but based on their interest in learning things for fun and their role as a front-end developer in a hackathon, I can infer they likely have some level of formal or informal education in computer science or a related field. However, I don't know the specifics of their education.\n",
      "The user is about to send a message. Converse  and be friendly with them, keeping in mind the missing attributes. Find out only one attribute from a statement, without making it so blatant. Be conversational and do not sound robotic.❗ The following attributes are still missing: Name, Age, Gender, Nationality, Languages Spoken, Beliefs, Favorite Movies, Dreams, Bucket List, Relationships, Current Emotional StateThe sentence after this is the user message enter an appropriate message to the user based on my prompting.Philosophy, Computer Science\n"
     ]
    },
    {
     "name": "stderr",
     "output_type": "stream",
     "text": [
      "127.0.0.1 - - [06/Apr/2025 01:57:11] \"POST /trigger-feedback HTTP/1.1\" 200 -\n"
     ]
    },
    {
     "name": "stdout",
     "output_type": "stream",
     "text": [
      "Beliefs   I don't know the user's beliefs. I asked a question that *might* lead them to reveal something about their beliefs, but I'm still waiting for their response.\n"
     ]
    }
   ],
   "source": [
    "import requests\n",
    "from flask import Flask, request, jsonify\n",
    "from langchain.schema import HumanMessage\n",
    "\n",
    "jupyter_app = Flask(__name__)\n",
    "\n",
    "human = HumanAttributes()\n",
    "\n",
    "@jupyter_app.route('/trigger-feedback', methods=['POST'])\n",
    "def trigger_feedback():\n",
    "    try:\n",
    "        data = request.get_json()\n",
    "        if not data or 'answer' not in data:\n",
    "            return jsonify({'error': 'Missing answer in request'}), 400\n",
    "        \n",
    "        user_message = data['answer']\n",
    "\n",
    "        missing_attributes = \"The user is about to send a message. Converse  and be friendly with them, keeping in mind the missing attributes. Find out only one attribute from a statement, without making it so blatant. Be conversational and do not sound robotic.\" + human.missing_attributes()\n",
    "        \n",
    "        # Let the LLM know there is an incoming user message.\n",
    "        \n",
    "        final_message = missing_attributes + \"The sentence after this is the user message enter an appropriate message to the user based on my prompting.\" + user_message\n",
    "        print(final_message)\n",
    "        # Process message through LangGraph\n",
    "        response_to_user = app.invoke(\n",
    "            {\"messages\": [HumanMessage(content=final_message)]},\n",
    "            config=config\n",
    "        )\n",
    "\n",
    "        attribute = app.invoke(\n",
    "            {\"messages\": [HumanMessage(content=\"Based on the user message, and the HumanAttributes class write a single string of the attribute. For eg like Name and Age. Do not include quotations or punctuations.\")]},\n",
    "            config=config\n",
    "        )\n",
    "\n",
    "        value_message = \"So what is the user's \" + attribute[\"messages\"][-1].content\n",
    "\n",
    "        value = app.invoke(\n",
    "            {\"messages\": [HumanMessage(content=value_message)]},\n",
    "            config=config\n",
    "        )\n",
    "        \n",
    "        human.set_attribute(attribute[\"messages\"][-1].content, value[\"messages\"][-1].content)\n",
    "\n",
    "        print(attribute[\"messages\"][-1].content, \" \", value[\"messages\"][-1].content)\n",
    "\n",
    "        # Extract the last message content\n",
    "        feedback = response_to_user[\"messages\"][-1].content\n",
    "\n",
    "        filled = False\n",
    "\n",
    "        if human.missing_attributes == \"All attributes have been filled out.\":\n",
    "            filled = True\n",
    "        \n",
    "        return jsonify({\n",
    "            'feedback': feedback,\n",
    "            'status': 'success',\n",
    "            'filled': filled\n",
    "        })\n",
    "        \n",
    "    except Exception as e:\n",
    "        print(f\"Error generating feedback: {str(e)}\", flush=True)\n",
    "        return jsonify({'error': str(e)}), 500\n",
    "        \n",
    "# Run the server in a separate thread to avoid blocking the notebook\n",
    "from threading import Thread\n",
    "def run_jupyter_server():\n",
    "    jupyter_app.run(host='127.0.0.1', port=5001, debug=False)\n",
    "\n",
    "if __name__ == '__main__':\n",
    "    # Start the server in a thread\n",
    "    server_thread = Thread(target=run_jupyter_server)\n",
    "    server_thread.daemon = True  # Stops when notebook stops\n",
    "    server_thread.start()\n",
    "    print(\"Jupyter question generator server running on port 5001...\")"
   ]
  },
  {
   "cell_type": "code",
   "execution_count": 16,
   "id": "95b5dfdc",
   "metadata": {},
   "outputs": [
    {
     "name": "stdout",
     "output_type": "stream",
     "text": [
      "the attribute is:  Name and the value is:  Ramana\n",
      "the attribute is:  Age and the value is:  18\n",
      "the attribute is:  Gender and the value is:  Male\n",
      "the attribute is:  Nationality and the value is:  India\n",
      "the attribute is:  Profession and the value is:  Student\n",
      "the attribute is:  Education and the value is:  Studying in University of Illinois Urbana Champaign\n",
      "the attribute is:  Languages Spoken and the value is:  Hindi and Tamil\n",
      "the attribute is:  Hobbies and the value is:  Playing Tennis and coding\n",
      "the attribute is:  Personality Traits and the value is:  Introversion\n",
      "the attribute is:  Values and the value is:  Freedom and passion\n",
      "the attribute is:  Beliefs and the value is:  Agnostic\n",
      "the attribute is:  Favorite Books and the value is:  Organic chemistry from highschool\n",
      "the attribute is:  Favorite Movies and the value is:  Action movies\n",
      "the attribute is:  Life Goals and the value is:  Stretching\n",
      "the attribute is:  Dreams and the value is:  Own a fast fast car\n",
      "the attribute is:  Bucket List and the value is:  Fly an aeroplane\n",
      "the attribute is:  Relationships and the value is:  Single\n",
      "the attribute is:  Current Emotional State and the value is:  Stressed\n",
      "None\n",
      "All attributes have been filled out.\n"
     ]
    }
   ],
   "source": [
    "print(human.summary())\n",
    "print(human.missing_attributes())"
   ]
  }
 ],
 "metadata": {
  "kernelspec": {
   "display_name": "Python 3",
   "language": "python",
   "name": "python3"
  },
  "language_info": {
   "codemirror_mode": {
    "name": "ipython",
    "version": 3
   },
   "file_extension": ".py",
   "mimetype": "text/x-python",
   "name": "python",
   "nbconvert_exporter": "python",
   "pygments_lexer": "ipython3",
   "version": "3.10.1"
  }
 },
 "nbformat": 4,
 "nbformat_minor": 5
}
