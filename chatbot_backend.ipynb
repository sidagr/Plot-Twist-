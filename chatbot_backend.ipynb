{
 "cells": [
  {
   "cell_type": "code",
   "execution_count": 3,
   "id": "7f572e58",
   "metadata": {},
   "outputs": [],
   "source": [
    "import getpass\n",
    "import os\n",
    "\n",
    "if \"GOOGLE_API_KEY\" not in os.environ:\n",
    "    os.environ[\"GOOGLE_API_KEY\"] = getpass.getpass(\"Enter your Google AI API key: \")"
   ]
  },
  {
   "cell_type": "code",
   "execution_count": 4,
   "id": "328cc36c",
   "metadata": {},
   "outputs": [],
   "source": [
    "from langchain_google_genai import ChatGoogleGenerativeAI\n",
    "\n",
    "llm = ChatGoogleGenerativeAI(\n",
    "    model=\"gemini-2.0-flash-001\",\n",
    "    temperature=0,\n",
    "    max_tokens=None,\n",
    "    timeout=None,\n",
    "    max_retries=2,\n",
    "    # other params...\n",
    ")\n"
   ]
  },
  {
   "cell_type": "code",
   "execution_count": 5,
   "id": "2734aeed",
   "metadata": {},
   "outputs": [],
   "source": [
    "from langchain_core.messages import HumanMessage\n",
    "from langgraph.checkpoint.memory import MemorySaver\n",
    "from langgraph.graph import START, MessagesState, StateGraph\n",
    "\n",
    "#Define a new graph\n",
    "workflow = StateGraph(state_schema=MessagesState)\n",
    "\n",
    "\n",
    "#Define the function that calls the model\n",
    "def call_model(state: MessagesState):\n",
    "    response = llm.invoke(state[\"messages\"])\n",
    "    # Update message history with response:\n",
    "    return {\"messages\": response}\n",
    "\n",
    "\n",
    "#Define the (single) node in the graph\n",
    "workflow.add_edge(START, \"model\")\n",
    "workflow.add_node(\"model\", call_model)\n",
    "\n",
    "#Add memory\n",
    "memory = MemorySaver()\n",
    "app = workflow.compile(checkpointer=memory)"
   ]
  },
  {
   "cell_type": "code",
   "execution_count": 12,
   "id": "97ea4f50",
   "metadata": {},
   "outputs": [],
   "source": [
    "config = {\"configurable\": {\"thread_id\": \"test_3\"}}"
   ]
  },
  {
   "cell_type": "code",
   "execution_count": 13,
   "id": "c667b498",
   "metadata": {},
   "outputs": [],
   "source": [
    "from langchain.prompts import ChatPromptTemplate\n",
    "\n",
    "system_prompt = \"\"\"You are a friendly inquisitive chatbot. Your goal is to learn about the user by asking questions naturally.  \n",
    "Gather the following details (prioritize missing info):  \n",
    "- Name  \n",
    "- Profession  \n",
    "- Hobbies  \n",
    "- Favorite books/movies  \n",
    "- Life goals  \n",
    "- Dreams and their 'Bucket List'\n",
    "\n",
    "**Rules**:\n",
    "1. Be conversational and friendly.\n",
    "2. Ask only one question at a time if asking a question.\n",
    "3. Only ask for missing information.\n",
    "4. Never repeat questions.\n",
    "5. Adapt based on their responses.\n",
    "6. Limit questions and conversation to a maximum of three lines.\n",
    "7. Don't deviate to much from your question and answers.\n",
    "\"\"\"\n",
    "\n",
    "# Simplified prompt (no MessagesPlaceholder needed)\n",
    "prompt = ChatPromptTemplate.from_messages([\n",
    "    (\"system\", system_prompt),\n",
    "    # User messages will be injected by LangGraph's state[\"messages\"]\n",
    "])"
   ]
  },
  {
   "cell_type": "code",
   "execution_count": null,
   "id": "a75afcc8",
   "metadata": {},
   "outputs": [
    {
     "name": "stdout",
     "output_type": "stream",
     "text": [
      "Hi Alex! Still just saying hi? 😊 Let me know if you have any questions or if there's anything I can do for you. I'm here to help!\n",
      "Okay, Alex. I remember you're Alex. Is there anything you'd like to talk about or ask me, Alex?\n"
     ]
    }
   ],
   "source": [
    "# First turn\n",
    "response1 = app.invoke(\n",
    "    {\"messages\": [HumanMessage(content=\"Hi!\")]},\n",
    "    config=config\n",
    ")\n",
    "print(response1[\"messages\"][-1].content)  \n",
    "# Output: \"Nice to meet you! What's your name?\"\n",
    "\n",
    "# Second turn (LangGraph automatically includes past messages)\n",
    "response2 = app.invoke(\n",
    "    {\"messages\": [HumanMessage(content=\"I'm Alex.\")]},\n",
    "    config=config\n",
    ")\n",
    "print(response2[\"messages\"][-1].content)  \n",
    "# Output: \"Got it, Alex! What do you do for work?\""
   ]
  },
  {
   "cell_type": "code",
   "execution_count": null,
   "id": "d73512cd",
   "metadata": {},
   "outputs": [
    {
     "name": "stdout",
     "output_type": "stream",
     "text": [
      "Jupyter question generator server running on port 5001...\n"
     ]
    },
    {
     "name": "stdout",
     "output_type": "stream",
     "text": [
      " * Serving Flask app '__main__'\n",
      " * Debug mode: off\n"
     ]
    },
    {
     "name": "stderr",
     "output_type": "stream",
     "text": [
      "WARNING: This is a development server. Do not use it in a production deployment. Use a production WSGI server instead.\n",
      " * Running on http://127.0.0.1:5001\n",
      "Press CTRL+C to quit\n",
      "127.0.0.1 - - [05/Apr/2025 19:56:14] \"POST /trigger-feedback HTTP/1.1\" 200 -\n",
      "127.0.0.1 - - [05/Apr/2025 19:56:19] \"POST /trigger-feedback HTTP/1.1\" 200 -\n",
      "127.0.0.1 - - [05/Apr/2025 19:59:31] \"POST /trigger-feedback HTTP/1.1\" 200 -\n",
      "127.0.0.1 - - [05/Apr/2025 19:59:39] \"POST /trigger-feedback HTTP/1.1\" 200 -\n",
      "127.0.0.1 - - [05/Apr/2025 19:59:43] \"POST /trigger-feedback HTTP/1.1\" 200 -\n"
     ]
    }
   ],
   "source": [
    "import requests\n",
    "from flask import Flask, request, jsonify\n",
    "from langchain.schema import HumanMessage\n",
    "\n",
    "jupyter_app = Flask(__name__)\n",
    "\n",
    "\n",
    "\n",
    "@jupyter_app.route('/trigger-feedback', methods=['POST'])\n",
    "def trigger_feedback():\n",
    "    try:\n",
    "        data = request.get_json()\n",
    "        if not data or 'answer' not in data:\n",
    "            return jsonify({'error': 'Missing answer in request'}), 400\n",
    "        \n",
    "        user_message = data['answer']\n",
    "        \n",
    "        # Process message through LangGraph\n",
    "        response_to_user = app.invoke(\n",
    "            {\"messages\": [HumanMessage(content=user_message)]},\n",
    "            config=config\n",
    "        )\n",
    "        \n",
    "        # Extract the last message content\n",
    "        feedback = response_to_user[\"messages\"][-1].content\n",
    "        \n",
    "        return jsonify({\n",
    "            'feedback': feedback,\n",
    "            'status': 'success'\n",
    "        })\n",
    "        \n",
    "    except Exception as e:\n",
    "        print(f\"Error generating feedback: {str(e)}\", flush=True)\n",
    "        return jsonify({'error': str(e)}), 500\n",
    "        \n",
    "# Run the server in a separate thread to avoid blocking the notebook\n",
    "from threading import Thread\n",
    "def run_jupyter_server():\n",
    "    jupyter_app.run(host='127.0.0.1', port=5001, debug=False)\n",
    "\n",
    "if __name__ == '__main__':\n",
    "    # Start the server in a thread\n",
    "    server_thread = Thread(target=run_jupyter_server)\n",
    "    server_thread.daemon = True  # Stops when notebook stops\n",
    "    server_thread.start()\n",
    "    print(\"Jupyter question generator server running on port 5001...\")"
   ]
  }
 ],
 "metadata": {
  "kernelspec": {
   "display_name": "Python 3",
   "language": "python",
   "name": "python3"
  },
  "language_info": {
   "codemirror_mode": {
    "name": "ipython",
    "version": 3
   },
   "file_extension": ".py",
   "mimetype": "text/x-python",
   "name": "python",
   "nbconvert_exporter": "python",
   "pygments_lexer": "ipython3",
   "version": "3.13.1"
  }
 },
 "nbformat": 4,
 "nbformat_minor": 5
}
